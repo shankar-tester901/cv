{
  "nbformat": 4,
  "nbformat_minor": 0,
  "metadata": {
    "colab": {
      "provenance": [],
      "authorship_tag": "ABX9TyNwjDiq/EFozg+9dNRCKkAM",
      "include_colab_link": true
    },
    "kernelspec": {
      "name": "python3",
      "display_name": "Python 3"
    },
    "language_info": {
      "name": "python"
    }
  },
  "cells": [
    {
      "cell_type": "markdown",
      "metadata": {
        "id": "view-in-github",
        "colab_type": "text"
      },
      "source": [
        "<a href=\"https://colab.research.google.com/github/shankar-tester901/cv/blob/main/ASLwithCNN.ipynb\" target=\"_parent\"><img src=\"https://colab.research.google.com/assets/colab-badge.svg\" alt=\"Open In Colab\"/></a>"
      ]
    },
    {
      "cell_type": "code",
      "execution_count": 1,
      "metadata": {
        "id": "dMCyFmPkGUfH",
        "colab": {
          "base_uri": "https://localhost:8080/"
        },
        "outputId": "e2a7cf7b-4733-476c-a668-a8a3de92ed6e"
      },
      "outputs": [
        {
          "output_type": "stream",
          "name": "stdout",
          "text": [
            "Cloning into 'aslsigndataset'...\n",
            "remote: Enumerating objects: 6673, done.\u001b[K\n",
            "remote: Counting objects: 100% (3/3), done.\u001b[K\n",
            "remote: Compressing objects: 100% (3/3), done.\u001b[K\n",
            "remote: Total 6673 (delta 0), reused 0 (delta 0), pack-reused 6670\u001b[K\n",
            "Receiving objects: 100% (6673/6673), 151.97 MiB | 28.02 MiB/s, done.\n",
            "Resolving deltas: 100% (14/14), done.\n"
          ]
        }
      ],
      "source": [
        "!git clone https://github.com/kumarvivek9088/aslsigndataset.git\n"
      ]
    },
    {
      "cell_type": "code",
      "source": [
        "from keras.utils import to_categorical\n",
        "from keras.models import Sequential\n",
        "from keras.layers import Dense, Conv2D, Dropout, Flatten, MaxPooling2D\n",
        "from keras.preprocessing.image import ImageDataGenerator\n",
        "from keras.callbacks import TensorBoard\n",
        "import os\n"
      ],
      "metadata": {
        "id": "XvK_hZZbGVhZ"
      },
      "execution_count": 2,
      "outputs": []
    },
    {
      "cell_type": "code",
      "source": [
        "train_datagen = ImageDataGenerator(\n",
        "    rescale=1./255,\n",
        ")\n",
        "\n",
        "val_datagen = ImageDataGenerator(rescale=1./255)\n",
        "\n",
        "batch_size = 128\n",
        "\n",
        "train_generator = train_datagen.flow_from_directory(\n",
        "    '/content/aslsigndataset/splitdataset48x48/train',\n",
        "    target_size=(48, 48),\n",
        "    batch_size=batch_size,\n",
        "    class_mode='categorical',\n",
        "    color_mode='grayscale'\n",
        ")\n",
        "\n",
        "validation_generator = val_datagen.flow_from_directory(\n",
        "    '/content/aslsigndataset/splitdataset48x48/val',\n",
        "    target_size=(48, 48),\n",
        "    batch_size=batch_size,\n",
        "    class_mode='categorical',\n",
        "    color_mode='grayscale'\n",
        ")"
      ],
      "metadata": {
        "id": "2Y57sydrGVfH",
        "colab": {
          "base_uri": "https://localhost:8080/"
        },
        "outputId": "3e7cd645-2884-4fa2-d457-eaa6f5f710fb"
      },
      "execution_count": 3,
      "outputs": [
        {
          "output_type": "stream",
          "name": "stdout",
          "text": [
            "Found 1473 images belonging to 6 classes.\n",
            "Found 372 images belonging to 6 classes.\n"
          ]
        }
      ]
    },
    {
      "cell_type": "code",
      "source": [
        "class_names = list(train_generator.class_indices.keys())\n",
        "print(class_names)"
      ],
      "metadata": {
        "id": "_fcXz2nmGVcg",
        "colab": {
          "base_uri": "https://localhost:8080/"
        },
        "outputId": "48b10cd7-f6d6-4680-ec67-c74d5115a570"
      },
      "execution_count": 4,
      "outputs": [
        {
          "output_type": "stream",
          "name": "stdout",
          "text": [
            "['A', 'M', 'N', 'S', 'T', 'blank']\n"
          ]
        }
      ]
    },
    {
      "cell_type": "code",
      "source": [
        "\n",
        "model = Sequential()\n",
        "# convolutional layers\n",
        "model.add(Conv2D(128, kernel_size=(3,3), activation='relu', input_shape=(48,48,1)))\n",
        "model.add(MaxPooling2D(pool_size=(2,2)))\n",
        "model.add(Dropout(0.4))\n",
        "\n",
        "model.add(Conv2D(256, kernel_size=(3,3), activation='relu'))\n",
        "model.add(MaxPooling2D(pool_size=(2,2)))\n",
        "model.add(Dropout(0.4))\n",
        "\n",
        "model.add(Conv2D(512, kernel_size=(3,3), activation='relu'))\n",
        "model.add(MaxPooling2D(pool_size=(2,2)))\n",
        "model.add(Dropout(0.4))\n",
        "\n",
        "model.add(Conv2D(512, kernel_size=(3,3), activation='relu'))\n",
        "model.add(MaxPooling2D(pool_size=(2,2)))\n",
        "model.add(Dropout(0.4))\n",
        "\n",
        "model.add(Flatten())\n",
        "# fully connected layers\n",
        "model.add(Dense(512, activation='relu'))\n",
        "model.add(Dropout(0.4))\n",
        "model.add(Dense(64, activation='relu'))\n",
        "model.add(Dropout(0.2))\n",
        "model.add(Dense(256, activation='relu'))\n",
        "model.add(Dropout(0.3))\n",
        "model.add(Dense(64, activation='relu'))\n",
        "model.add(Dropout(0.2))\n",
        "model.add(Dense(256, activation='relu'))\n",
        "model.add(Dropout(0.3))\n",
        "# output layer\n",
        "model.add(Dense(6, activation='softmax'))"
      ],
      "metadata": {
        "id": "CJ2ELVzlGVaY"
      },
      "execution_count": 5,
      "outputs": []
    },
    {
      "cell_type": "code",
      "source": [
        "model.summary()\n"
      ],
      "metadata": {
        "id": "rS0YrSOAGVXx",
        "colab": {
          "base_uri": "https://localhost:8080/"
        },
        "outputId": "59ffe152-62a7-45df-ebd5-d7339eda472c"
      },
      "execution_count": 6,
      "outputs": [
        {
          "output_type": "stream",
          "name": "stdout",
          "text": [
            "Model: \"sequential\"\n",
            "_________________________________________________________________\n",
            " Layer (type)                Output Shape              Param #   \n",
            "=================================================================\n",
            " conv2d (Conv2D)             (None, 46, 46, 128)       1280      \n",
            "                                                                 \n",
            " max_pooling2d (MaxPooling2  (None, 23, 23, 128)       0         \n",
            " D)                                                              \n",
            "                                                                 \n",
            " dropout (Dropout)           (None, 23, 23, 128)       0         \n",
            "                                                                 \n",
            " conv2d_1 (Conv2D)           (None, 21, 21, 256)       295168    \n",
            "                                                                 \n",
            " max_pooling2d_1 (MaxPoolin  (None, 10, 10, 256)       0         \n",
            " g2D)                                                            \n",
            "                                                                 \n",
            " dropout_1 (Dropout)         (None, 10, 10, 256)       0         \n",
            "                                                                 \n",
            " conv2d_2 (Conv2D)           (None, 8, 8, 512)         1180160   \n",
            "                                                                 \n",
            " max_pooling2d_2 (MaxPoolin  (None, 4, 4, 512)         0         \n",
            " g2D)                                                            \n",
            "                                                                 \n",
            " dropout_2 (Dropout)         (None, 4, 4, 512)         0         \n",
            "                                                                 \n",
            " conv2d_3 (Conv2D)           (None, 2, 2, 512)         2359808   \n",
            "                                                                 \n",
            " max_pooling2d_3 (MaxPoolin  (None, 1, 1, 512)         0         \n",
            " g2D)                                                            \n",
            "                                                                 \n",
            " dropout_3 (Dropout)         (None, 1, 1, 512)         0         \n",
            "                                                                 \n",
            " flatten (Flatten)           (None, 512)               0         \n",
            "                                                                 \n",
            " dense (Dense)               (None, 512)               262656    \n",
            "                                                                 \n",
            " dropout_4 (Dropout)         (None, 512)               0         \n",
            "                                                                 \n",
            " dense_1 (Dense)             (None, 64)                32832     \n",
            "                                                                 \n",
            " dropout_5 (Dropout)         (None, 64)                0         \n",
            "                                                                 \n",
            " dense_2 (Dense)             (None, 256)               16640     \n",
            "                                                                 \n",
            " dropout_6 (Dropout)         (None, 256)               0         \n",
            "                                                                 \n",
            " dense_3 (Dense)             (None, 64)                16448     \n",
            "                                                                 \n",
            " dropout_7 (Dropout)         (None, 64)                0         \n",
            "                                                                 \n",
            " dense_4 (Dense)             (None, 256)               16640     \n",
            "                                                                 \n",
            " dropout_8 (Dropout)         (None, 256)               0         \n",
            "                                                                 \n",
            " dense_5 (Dense)             (None, 6)                 1542      \n",
            "                                                                 \n",
            "=================================================================\n",
            "Total params: 4183174 (15.96 MB)\n",
            "Trainable params: 4183174 (15.96 MB)\n",
            "Non-trainable params: 0 (0.00 Byte)\n",
            "_________________________________________________________________\n"
          ]
        }
      ]
    },
    {
      "cell_type": "code",
      "source": [
        "model.compile(optimizer = 'adam', loss = 'categorical_crossentropy', metrics = 'accuracy' )\n"
      ],
      "metadata": {
        "id": "IGlH2wZXGicj"
      },
      "execution_count": 7,
      "outputs": []
    },
    {
      "cell_type": "code",
      "source": [
        "\n",
        "!rm -rf Logs\n",
        "logdir = os.path.join(\"Logs\")\n",
        "tensorboard_callback = TensorBoard(log_dir=logdir)"
      ],
      "metadata": {
        "id": "Ia98sL2WGiYI"
      },
      "execution_count": 8,
      "outputs": []
    },
    {
      "cell_type": "code",
      "source": [
        "\n",
        "model.fit(\n",
        "    train_generator,\n",
        "    steps_per_epoch=train_generator.samples // batch_size,\n",
        "    epochs=100,\n",
        "    validation_data=validation_generator,\n",
        "    validation_steps=validation_generator.samples // batch_size,\n",
        "    callbacks=[tensorboard_callback]\n",
        ")"
      ],
      "metadata": {
        "id": "usq7eDNpGiVh",
        "colab": {
          "base_uri": "https://localhost:8080/"
        },
        "outputId": "07f8d5fd-e49b-4729-bedf-b75474c705d2"
      },
      "execution_count": null,
      "outputs": [
        {
          "output_type": "stream",
          "name": "stdout",
          "text": [
            "Epoch 1/100\n",
            "11/11 [==============================] - 73s 6s/step - loss: 1.7940 - accuracy: 0.1799 - val_loss: 1.7861 - val_accuracy: 0.1875\n",
            "Epoch 2/100\n",
            "11/11 [==============================] - 68s 6s/step - loss: 1.7871 - accuracy: 0.1888 - val_loss: 1.7855 - val_accuracy: 0.1719\n",
            "Epoch 3/100\n",
            "11/11 [==============================] - 68s 6s/step - loss: 1.7794 - accuracy: 0.2007 - val_loss: 1.7687 - val_accuracy: 0.1758\n",
            "Epoch 4/100\n",
            "11/11 [==============================] - 68s 6s/step - loss: 1.7621 - accuracy: 0.1829 - val_loss: 1.7258 - val_accuracy: 0.1953\n",
            "Epoch 5/100\n",
            "11/11 [==============================] - 67s 6s/step - loss: 1.7258 - accuracy: 0.1955 - val_loss: 1.7114 - val_accuracy: 0.2109\n",
            "Epoch 6/100\n",
            "11/11 [==============================] - 67s 6s/step - loss: 1.7075 - accuracy: 0.2037 - val_loss: 1.6602 - val_accuracy: 0.2148\n",
            "Epoch 7/100\n",
            "11/11 [==============================] - 67s 6s/step - loss: 1.6644 - accuracy: 0.2327 - val_loss: 1.6437 - val_accuracy: 0.2656\n",
            "Epoch 8/100\n",
            "11/11 [==============================] - 66s 6s/step - loss: 1.6207 - accuracy: 0.2595 - val_loss: 1.5767 - val_accuracy: 0.2930\n",
            "Epoch 9/100\n",
            "11/11 [==============================] - 67s 6s/step - loss: 1.5621 - accuracy: 0.2937 - val_loss: 1.5664 - val_accuracy: 0.3594\n",
            "Epoch 10/100\n",
            "11/11 [==============================] - 67s 6s/step - loss: 1.5128 - accuracy: 0.3249 - val_loss: 1.5040 - val_accuracy: 0.3555\n",
            "Epoch 11/100\n",
            "11/11 [==============================] - 68s 6s/step - loss: 1.4780 - accuracy: 0.3383 - val_loss: 1.4828 - val_accuracy: 0.4180\n",
            "Epoch 12/100\n",
            "11/11 [==============================] - 68s 6s/step - loss: 1.3996 - accuracy: 0.4245 - val_loss: 1.3129 - val_accuracy: 0.5156\n",
            "Epoch 13/100\n",
            "11/11 [==============================] - 68s 6s/step - loss: 1.3409 - accuracy: 0.4617 - val_loss: 1.4487 - val_accuracy: 0.4414\n",
            "Epoch 14/100\n",
            "11/11 [==============================] - 67s 6s/step - loss: 1.3075 - accuracy: 0.4483 - val_loss: 1.1740 - val_accuracy: 0.4648\n",
            "Epoch 15/100\n",
            "11/11 [==============================] - 67s 6s/step - loss: 1.1790 - accuracy: 0.4699 - val_loss: 1.0699 - val_accuracy: 0.4883\n",
            "Epoch 16/100\n",
            "11/11 [==============================] - 73s 7s/step - loss: 1.0507 - accuracy: 0.5021 - val_loss: 0.9431 - val_accuracy: 0.5273\n",
            "Epoch 17/100\n",
            "11/11 [==============================] - 68s 6s/step - loss: 1.0158 - accuracy: 0.5115 - val_loss: 0.8832 - val_accuracy: 0.5273\n",
            "Epoch 18/100\n",
            "11/11 [==============================] - 69s 6s/step - loss: 0.9264 - accuracy: 0.5561 - val_loss: 1.1377 - val_accuracy: 0.5586\n",
            "Epoch 19/100\n",
            "11/11 [==============================] - 67s 6s/step - loss: 0.9232 - accuracy: 0.5732 - val_loss: 0.8286 - val_accuracy: 0.6719\n",
            "Epoch 20/100\n",
            "11/11 [==============================] - 67s 6s/step - loss: 0.8633 - accuracy: 0.6193 - val_loss: 0.7029 - val_accuracy: 0.6484\n",
            "Epoch 21/100\n",
            "11/11 [==============================] - 66s 6s/step - loss: 0.7397 - accuracy: 0.6706 - val_loss: 0.6323 - val_accuracy: 0.6797\n",
            "Epoch 22/100\n",
            "11/11 [==============================] - 67s 6s/step - loss: 0.7076 - accuracy: 0.6825 - val_loss: 0.5340 - val_accuracy: 0.7500\n",
            "Epoch 23/100\n",
            "11/11 [==============================] - 67s 6s/step - loss: 0.5546 - accuracy: 0.7539 - val_loss: 0.4838 - val_accuracy: 0.7852\n",
            "Epoch 24/100\n",
            "11/11 [==============================] - 68s 6s/step - loss: 0.5413 - accuracy: 0.7539 - val_loss: 0.5842 - val_accuracy: 0.7773\n",
            "Epoch 25/100\n",
            "11/11 [==============================] - 71s 6s/step - loss: 0.5704 - accuracy: 0.7546 - val_loss: 0.4007 - val_accuracy: 0.7617\n",
            "Epoch 26/100\n",
            "11/11 [==============================] - 66s 6s/step - loss: 0.4773 - accuracy: 0.7703 - val_loss: 0.3733 - val_accuracy: 0.8047\n",
            "Epoch 27/100\n",
            "11/11 [==============================] - 67s 6s/step - loss: 0.4193 - accuracy: 0.7978 - val_loss: 0.3547 - val_accuracy: 0.7930\n",
            "Epoch 28/100\n",
            "11/11 [==============================] - 67s 6s/step - loss: 0.4136 - accuracy: 0.8052 - val_loss: 0.3412 - val_accuracy: 0.8008\n",
            "Epoch 29/100\n",
            "11/11 [==============================] - 67s 6s/step - loss: 0.3761 - accuracy: 0.8015 - val_loss: 0.4181 - val_accuracy: 0.8359\n",
            "Epoch 30/100\n",
            "11/11 [==============================] - 67s 6s/step - loss: 0.3971 - accuracy: 0.8245 - val_loss: 0.3164 - val_accuracy: 0.8438\n",
            "Epoch 31/100\n",
            "11/11 [==============================] - 69s 6s/step - loss: 0.3341 - accuracy: 0.8506 - val_loss: 0.2898 - val_accuracy: 0.8711\n",
            "Epoch 32/100\n",
            "11/11 [==============================] - 71s 6s/step - loss: 0.3466 - accuracy: 0.8528 - val_loss: 0.2882 - val_accuracy: 0.8594\n",
            "Epoch 33/100\n",
            "11/11 [==============================] - 67s 6s/step - loss: 0.3025 - accuracy: 0.8669 - val_loss: 0.2530 - val_accuracy: 0.8867\n",
            "Epoch 34/100\n",
            "11/11 [==============================] - 68s 6s/step - loss: 0.2763 - accuracy: 0.8900 - val_loss: 0.2633 - val_accuracy: 0.8828\n",
            "Epoch 35/100\n",
            "11/11 [==============================] - 69s 6s/step - loss: 0.2742 - accuracy: 0.8937 - val_loss: 0.2073 - val_accuracy: 0.9023\n",
            "Epoch 36/100\n",
            "11/11 [==============================] - 68s 6s/step - loss: 0.2228 - accuracy: 0.9271 - val_loss: 0.2289 - val_accuracy: 0.9062\n",
            "Epoch 37/100\n",
            "10/11 [==========================>...] - ETA: 5s - loss: 0.1912 - accuracy: 0.9302 "
          ]
        }
      ]
    },
    {
      "cell_type": "code",
      "source": [
        "%load_ext tensorboard\n",
        "%tensorboard --logdir Logs"
      ],
      "metadata": {
        "id": "zr_PkG9lGrDm"
      },
      "execution_count": null,
      "outputs": []
    },
    {
      "cell_type": "code",
      "source": [
        "\n",
        "model_json = model.to_json()\n",
        "with open(\"/content/drive/MyDrive/signlanguagedetectionmodel48x48.json\",'w') as json_file:\n",
        "    json_file.write(model_json)\n",
        "model.save(\"/content/drive/MyDrive/signlanguagedetectionmodel48x48.h5\")"
      ],
      "metadata": {
        "id": "fSZeJRBDGrA_"
      },
      "execution_count": null,
      "outputs": []
    },
    {
      "cell_type": "code",
      "source": [],
      "metadata": {
        "id": "6XW0Dgj1Gq_I"
      },
      "execution_count": null,
      "outputs": []
    },
    {
      "cell_type": "code",
      "source": [],
      "metadata": {
        "id": "joCbmL6TGq8h"
      },
      "execution_count": null,
      "outputs": []
    }
  ]
}